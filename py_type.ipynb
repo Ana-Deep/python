{
 "cells": [
  {
   "cell_type": "code",
   "execution_count": 1,
   "metadata": {},
   "outputs": [
    {
     "name": "stdout",
     "output_type": "stream",
     "text": [
      "Hello word\n"
     ]
    }
   ],
   "source": [
    "print(\"Hello word\")"
   ]
  },
  {
   "cell_type": "code",
   "execution_count": 3,
   "metadata": {},
   "outputs": [
    {
     "name": "stdout",
     "output_type": "stream",
     "text": [
      "Deepak\n",
      "68.5\n",
      "30\n",
      "0.99999099\n"
     ]
    }
   ],
   "source": [
    "name = \"Deepak\"\n",
    "weight = 68.5\n",
    "age = 30\n",
    "rating = 0.99999099\n",
    "\n",
    "print(name)\n",
    "print(weight)\n",
    "print(age)\n",
    "print(rating)"
   ]
  },
  {
   "cell_type": "code",
   "execution_count": 7,
   "metadata": {},
   "outputs": [
    {
     "data": {
      "text/plain": [
       "int"
      ]
     },
     "execution_count": 7,
     "metadata": {},
     "output_type": "execute_result"
    }
   ],
   "source": [
    "type(name)\n",
    "type(weight)\n",
    "type(rating)\n",
    "type(age)"
   ]
  },
  {
   "cell_type": "code",
   "execution_count": 9,
   "metadata": {},
   "outputs": [
    {
     "name": "stdout",
     "output_type": "stream",
     "text": [
      "['Deepak', 'Mahesh', 'Harish', 'Ashok']\n",
      "('552', 'ashok nagar', 'aveburry boulevard')\n"
     ]
    }
   ],
   "source": [
    "name_of_stud = [\"Deepak\",\"Mahesh\",\"Harish\",\"Ashok\"]\n",
    "address = (\"552\",\"ashok nagar\",\"aveburry boulevard\")\n",
    "print(name_of_stud)\n",
    "print(address)"
   ]
  },
  {
   "cell_type": "code",
   "execution_count": 16,
   "metadata": {
    "scrolled": true
   },
   "outputs": [
    {
     "name": "stdout",
     "output_type": "stream",
     "text": [
      "This is one\n"
     ]
    }
   ],
   "source": [
    "empty_dict = {}\n",
    "empty_dict['one']=\"This is one\"\n",
    "print (empty_dict[\"one\"])"
   ]
  }
 ],
 "metadata": {
  "kernelspec": {
   "display_name": "Python 3",
   "language": "python",
   "name": "python3"
  },
  "language_info": {
   "codemirror_mode": {
    "name": "ipython",
    "version": 3
   },
   "file_extension": ".py",
   "mimetype": "text/x-python",
   "name": "python",
   "nbconvert_exporter": "python",
   "pygments_lexer": "ipython3",
   "version": "3.7.6"
  }
 },
 "nbformat": 4,
 "nbformat_minor": 4
}
